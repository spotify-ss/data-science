{
 "cells": [
  {
   "cell_type": "code",
   "execution_count": 12,
   "metadata": {},
   "outputs": [],
   "source": [
    "import pandas as pd\n",
    "from sklearn.decomposition import PCA\n",
    "\n",
    "df = pd.read_csv(\"SpotifyAudioFeaturesNov2018.csv\")\n",
    "df[\"popularity_2\"] = df[\"popularity\"]\n",
    "cols = [\n",
    "    \"acousticness\",\n",
    "    \"danceability\",\n",
    "    \"duration_ms\",\n",
    "    \"energy\",\n",
    "    \"instrumentalness\",\n",
    "    \"liveness\",\n",
    "    \"loudness\",\n",
    "    \"speechiness\",\n",
    "    \"tempo\",\n",
    "    \"valence\",\n",
    "    \"popularity_2\"\n",
    "]\n",
    "df[cols] = (df[cols] - df[cols].mean()) / df[cols].std()\n",
    "out = PCA(n_components=2).fit_transform(df[cols].values)\n",
    "df[\"PCA_1\"] = out[:,0]\n",
    "df[\"PCA_2\"] = out[:,1]\n",
    "df = df[[\"track_name\", \"artist_name\", \"PCA_1\", \"PCA_2\", \"popularity\"]].sample(200)\n",
    "df.to_csv(\"static/songs.csv\", index=None, header=True)"
   ]
  },
  {
   "cell_type": "code",
   "execution_count": null,
   "metadata": {},
   "outputs": [],
   "source": []
  }
 ],
 "metadata": {
  "kernelspec": {
   "display_name": "Python 3",
   "language": "python",
   "name": "python3"
  },
  "language_info": {
   "codemirror_mode": {
    "name": "ipython",
    "version": 3
   },
   "file_extension": ".py",
   "mimetype": "text/x-python",
   "name": "python",
   "nbconvert_exporter": "python",
   "pygments_lexer": "ipython3",
   "version": "3.7.2"
  }
 },
 "nbformat": 4,
 "nbformat_minor": 2
}
